{
 "cells": [
  {
   "cell_type": "code",
   "execution_count": null,
   "id": "chinese-cancer",
   "metadata": {},
   "outputs": [],
   "source": [
    "from collections import Counter, defaultdict\n",
    "import glob\n",
    "import json\n",
    "\n",
    "import IPython.display as ipd\n",
    "import librosa\n",
    "import librosa.display\n",
    "import numpy as np\n",
    "import matplotlib.pyplot as plt\n",
    "import soundfile as sf\n",
    "import torch\n",
    "import torch.nn as nn\n",
    "import torch.optim as optim\n",
    "from torch.utils.data import Dataset, DataLoader"
   ]
  },
  {
   "cell_type": "code",
   "execution_count": null,
   "id": "standard-tunisia",
   "metadata": {},
   "outputs": [],
   "source": [
    "def get_mfcc(audio):\n",
    "    n_fft = 512\n",
    "    hop_length = 160   # sr * .01\n",
    "    mfcc = librosa.feature.mfcc(audio, sr=SR, n_mfcc=13, n_fft=n_fft, hop_length=hop_length, win_length=n_fft, window='hann')\n",
    "\n",
    "    mean = mfcc.mean(axis=1, keepdims=True)\n",
    "    std = mfcc.std(axis=1, keepdims=True)\n",
    "    mfcc = (mfcc - mean) / std\n",
    "    return mfcc"
   ]
  },
  {
   "cell_type": "code",
   "execution_count": null,
   "id": "tracked-infection",
   "metadata": {},
   "outputs": [],
   "source": [
    "def get_spectrogram(audio):\n",
    "    n_fft = 2048\n",
    "    hop_length = 160   # sr * .01\n",
    "    spec = np.abs(librosa.stft(\n",
    "        audio, n_fft=n_fft, hop_length=hop_length, win_length=n_fft, window='hann')) ** 2\n",
    "    spec = librosa.power_to_db(spec, ref=np.max)\n",
    "    \n",
    "    return spec"
   ]
  },
  {
   "cell_type": "code",
   "execution_count": null,
   "id": "grateful-principle",
   "metadata": {},
   "outputs": [],
   "source": [
    "CHAR2CODE = {\n",
    "    'A':'. -',\n",
    "    'B':'- . . .',\n",
    "    'C':'- . - .',\n",
    "    'D':'- . .',\n",
    "    'E':'.',\n",
    "    'F':'. . - .',\n",
    "    'G':'- - .',\n",
    "    'H':'. . . .',\n",
    "    'I':'. .',\n",
    "    'J':'. - - -',\n",
    "    'K':'- . -',\n",
    "    'L':'. - . .',\n",
    "    'M':'- -',\n",
    "    'N':'- .',\n",
    "    'O':'- - -',\n",
    "    'P':'. - - .',\n",
    "    'Q':'- - . -',\n",
    "    'R':'. - .',\n",
    "    'S':'. . .',\n",
    "    'T':'-',\n",
    "    'U':'. . -',\n",
    "    'V':'. . . -',\n",
    "    'W':'. - -',\n",
    "    'X':'- . . -',\n",
    "    'Y':'- . - -',\n",
    "    'Z':'- - . .',\n",
    "    ' ':'       ',\n",
    "}\n",
    "# dot=1\n",
    "# dash=3\n",
    "# space=1\n",
    "# between letters = 3\n",
    "# between words = 7\n",
    "\n",
    "SR = 16000\n",
    "\n",
    "unit = 0.10\n",
    "u = np.linspace(0, unit, int(unit*SR))\n",
    "u3 = np.linspace(0, unit*3, int(unit*SR*3))\n",
    "dot = np.sin(2 * np.pi * 880 * u)\n",
    "dash = np.sin(2 * np.pi * 880 * u3)\n",
    "space = np.zeros_like(u)\n",
    "\n",
    "CODE2AUDIO = {\n",
    "    '.': dot,\n",
    "    '-': dash,\n",
    "    ' ': space,\n",
    "}\n",
    "\n",
    "def text2code(text):\n",
    "    words = text.upper().split(' ')\n",
    "    codes = ['   '.join(CHAR2CODE[c] for c in word) for word in words]\n",
    "    margin = 3\n",
    "    prev_end = -7 + margin\n",
    "    offsets = []\n",
    "    for word, code in zip(words, codes):\n",
    "        st, ed = (prev_end + 7, prev_end + 7 + len(code.replace('-', '...')))\n",
    "        offsets.append((word, st - margin, ed + margin))\n",
    "        prev_end = ed\n",
    "    code = '       '.join(codes)\n",
    "    code = ' '*margin + code + ' '*margin\n",
    "    return code, offsets\n",
    "\n",
    "def code2audio(code):\n",
    "    audio = [CODE2AUDIO[c] for c in code]\n",
    "    audio = np.concatenate(audio)\n",
    "    return audio\n",
    "    \n",
    "def text2audio(text):\n",
    "    code, offsets = text2code(text)\n",
    "    audio = code2audio(code)\n",
    "    offsets = [(word, st * unit, ed * unit) for word, st, ed in offsets]\n",
    "    return audio, offsets"
   ]
  },
  {
   "cell_type": "code",
   "execution_count": null,
   "id": "partial-classics",
   "metadata": {},
   "outputs": [],
   "source": [
    "def visualize(spec):\n",
    "    fig, ax = plt.subplots(nrows=1, ncols=1, sharex=True, figsize=(15, 5))\n",
    "    librosa.display.specshow(spec, sr=SR, x_axis='time', ax=ax, cmap='inferno')"
   ]
  },
  {
   "cell_type": "code",
   "execution_count": null,
   "id": "bacterial-legislation",
   "metadata": {},
   "outputs": [],
   "source": [
    "code, offsets = text2code('earth species project')"
   ]
  },
  {
   "cell_type": "code",
   "execution_count": null,
   "id": "agreed-fairy",
   "metadata": {},
   "outputs": [],
   "source": [
    "code, offsets"
   ]
  },
  {
   "cell_type": "code",
   "execution_count": null,
   "id": "modern-gathering",
   "metadata": {},
   "outputs": [],
   "source": [
    "audio, offsets = text2audio('earth species project')"
   ]
  },
  {
   "cell_type": "code",
   "execution_count": null,
   "id": "prostate-consideration",
   "metadata": {},
   "outputs": [],
   "source": [
    "offsets"
   ]
  },
  {
   "cell_type": "code",
   "execution_count": null,
   "id": "caring-metabolism",
   "metadata": {},
   "outputs": [],
   "source": [
    "spec = get_spectrogram(audio)"
   ]
  },
  {
   "cell_type": "code",
   "execution_count": null,
   "id": "matched-slide",
   "metadata": {},
   "outputs": [],
   "source": [
    "visualize(spec)"
   ]
  },
  {
   "cell_type": "code",
   "execution_count": null,
   "id": "spiritual-median",
   "metadata": {},
   "outputs": [],
   "source": [
    "ipd.Audio(audio, rate=SR)"
   ]
  },
  {
   "cell_type": "code",
   "execution_count": null,
   "id": "hindu-aspect",
   "metadata": {},
   "outputs": [],
   "source": [
    "ipd.Audio(audio[int(offsets[0][1]*SR):int(offsets[0][2]*SR)], rate=SR)"
   ]
  },
  {
   "cell_type": "code",
   "execution_count": null,
   "id": "afraid-constraint",
   "metadata": {},
   "outputs": [],
   "source": [
    "ipd.Audio(audio[int(offsets[1][1]*SR):int(offsets[1][2]*SR)], rate=SR)"
   ]
  },
  {
   "cell_type": "code",
   "execution_count": null,
   "id": "living-posting",
   "metadata": {},
   "outputs": [],
   "source": [
    "ipd.Audio(audio[int(offsets[2][1]*SR):int(offsets[2][2]*SR)], rate=SR)"
   ]
  },
  {
   "cell_type": "markdown",
   "id": "absolute-lithuania",
   "metadata": {},
   "source": [
    "## Generate dataset for LibriSpeech (dev-clean)"
   ]
  },
  {
   "cell_type": "code",
   "execution_count": null,
   "id": "pacific-accommodation",
   "metadata": {
    "scrolled": true
   },
   "outputs": [],
   "source": [
    "metadata = {}\n",
    "for filename in glob.glob('data/LibriSpeech/dev-clean/**/*.trans.txt', recursive=True):\n",
    "    print(filename)\n",
    "    with open(filename) as f:\n",
    "        for line in f:\n",
    "            prefix, trans = line.strip().split(' ', maxsplit=1)\n",
    "            trans = trans.lower()\n",
    "            trans = trans.replace(\"'\", '')     # TODO: remove apostrophes .. is this good?\n",
    "            audio, offsets = text2audio(trans)\n",
    "            # sf.write(f'data/LibriMorse/{prefix}.wav', audio, SR)\n",
    "            metadata['dev-clean/'+prefix] = offsets"
   ]
  },
  {
   "cell_type": "code",
   "execution_count": null,
   "id": "sound-madrid",
   "metadata": {},
   "outputs": [],
   "source": [
    "with open('data/LibriMorse/dev-clean/metadata.jsonl', mode='w') as f:\n",
    "    for prefix, offsets in metadata.items():\n",
    "        f.write(json.dumps({'prefix': prefix, 'offsets': offsets}))\n",
    "        f.write('\\n')"
   ]
  },
  {
   "cell_type": "markdown",
   "id": "valid-entry",
   "metadata": {},
   "source": [
    "## train-clean-100"
   ]
  },
  {
   "cell_type": "code",
   "execution_count": null,
   "id": "coral-profile",
   "metadata": {
    "scrolled": true
   },
   "outputs": [],
   "source": [
    "metadata = {}\n",
    "count = 0\n",
    "for filename in glob.glob('data/LibriSpeech/train-clean-100/**/*.trans.txt', recursive=True):\n",
    "    print(filename)\n",
    "    with open(filename) as f:\n",
    "        for line in f:\n",
    "            prefix, trans = line.strip().split(' ', maxsplit=1)\n",
    "            trans = trans.lower()\n",
    "            trans = trans.replace(\"'\", '')     # TODO: remove apostrophes .. is this good?\n",
    "            audio, offsets = text2audio(trans)\n",
    "            # sf.write(f'data/LibriMorse/train-clean-100/{prefix}.wav', audio, SR)\n",
    "            metadata['train-clean-100/'+prefix] = offsets\n",
    "    count += 1\n",
    "    if count == 100:\n",
    "        break"
   ]
  },
  {
   "cell_type": "code",
   "execution_count": null,
   "id": "viral-reading",
   "metadata": {},
   "outputs": [],
   "source": [
    "with open('data/LibriMorse/train-clean-100/metadata.jsonl', mode='w') as f:\n",
    "    for prefix, offsets in metadata.items():\n",
    "        f.write(json.dumps({'prefix': prefix, 'offsets': offsets}))\n",
    "        f.write('\\n')"
   ]
  },
  {
   "cell_type": "code",
   "execution_count": null,
   "id": "devoted-polyester",
   "metadata": {},
   "outputs": [],
   "source": [
    "audio, _ = librosa.load('data/LibriMorse/dev-clean/2078-142845-0000.wav', sr=SR)"
   ]
  },
  {
   "cell_type": "code",
   "execution_count": null,
   "id": "featured-setup",
   "metadata": {},
   "outputs": [],
   "source": [
    "visualize(get_spectrogram(audio))"
   ]
  },
  {
   "cell_type": "code",
   "execution_count": null,
   "id": "polished-lemon",
   "metadata": {},
   "outputs": [],
   "source": [
    "visualize(get_mfcc(audio))"
   ]
  },
  {
   "cell_type": "code",
   "execution_count": null,
   "id": "distinct-rendering",
   "metadata": {
    "scrolled": true
   },
   "outputs": [],
   "source": [
    "visualize(get_mfcc(audio[int(metadata['2078-142845-0000'][0][1]*SR):int(metadata['2078-142845-0000'][0][2]*SR)]))"
   ]
  },
  {
   "cell_type": "code",
   "execution_count": null,
   "id": "frequent-breeding",
   "metadata": {},
   "outputs": [],
   "source": [
    "visualize(get_mfcc(audio)[:, int(metadata['2078-142845-0002'][3][1]*100):int(metadata['2078-142845-0002'][3][2]*100)])"
   ]
  },
  {
   "cell_type": "code",
   "execution_count": null,
   "id": "married-electricity",
   "metadata": {},
   "outputs": [],
   "source": []
  }
 ],
 "metadata": {
  "kernelspec": {
   "display_name": "Python 3",
   "language": "python",
   "name": "python3"
  },
  "language_info": {
   "codemirror_mode": {
    "name": "ipython",
    "version": 3
   },
   "file_extension": ".py",
   "mimetype": "text/x-python",
   "name": "python",
   "nbconvert_exporter": "python",
   "pygments_lexer": "ipython3",
   "version": "3.8.5"
  }
 },
 "nbformat": 4,
 "nbformat_minor": 5
}
